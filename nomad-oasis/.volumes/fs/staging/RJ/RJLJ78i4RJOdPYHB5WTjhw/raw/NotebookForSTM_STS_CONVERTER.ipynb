{
 "cells": [
  {
   "cell_type": "code",
   "execution_count": null,
   "id": "45d84b47-8f66-4a3e-821c-306e47f5039f",
   "metadata": {
    "tags": []
   },
   "outputs": [],
   "source": [
    "\n",
    "# STM ot SXM file\n",
    "!dataconverter \\\n",
    "--reader stm \\\n",
    "--nxdl NXiv_sweep2 \\\n",
    "--input-file STM_Example_file1.sxm \\\n",
    "--input-file ../config_file_for_sxm.json \\\n",
    "--input-file ./Nanonis_Eln.yaml \\\n",
    "--output stm_output.nxs"
   ]
  },
  {
   "cell_type": "code",
   "execution_count": null,
   "id": "09ed042e-0bbf-4299-aa71-c6269e0acc5a",
   "metadata": {},
   "outputs": [],
   "source": [
    "# STS or SXS file\n",
    "!dataconverter \\\n",
    "--reader stm \\\n",
    "--nxdl NXiv_sweep2 \\\n",
    "--input-file ./Bias-Spectroscopy00026_Au_mica_2023_Y_A_diPAMY_154-211C_370C_1min_385C_30min_400C_1min_400C_30min_415_30min_430_30min_11min_20230418.dat \\\n",
    "--input-file ../config_file_for_dat.json \\\n",
    "--input-file Nanonis_Eln.yaml \\\n",
    "--output sts_output.nxs"
   ]
  },
  {
   "cell_type": "code",
   "execution_count": null,
   "id": "125ca83a-488a-4587-a39a-9094f3bb505a",
   "metadata": {},
   "outputs": [],
   "source": []
  },
  {
   "cell_type": "code",
   "execution_count": null,
   "id": "babfd08d-febb-4d84-b8e6-0416db52439f",
   "metadata": {},
   "outputs": [],
   "source": []
  },
  {
   "cell_type": "code",
   "execution_count": null,
   "id": "7a7888de-9587-4e2a-ab96-eaf87b436029",
   "metadata": {},
   "outputs": [],
   "source": []
  },
  {
   "cell_type": "code",
   "execution_count": null,
   "id": "bdb95fe5-e38c-490f-89e9-8b64a849e6ba",
   "metadata": {},
   "outputs": [],
   "source": []
  },
  {
   "cell_type": "code",
   "execution_count": null,
   "id": "1848f963-91ab-43c2-baba-0fd2c26cebdb",
   "metadata": {},
   "outputs": [],
   "source": []
  }
 ],
 "metadata": {
  "kernelspec": {
   "display_name": "Python 3 (ipykernel)",
   "language": "python",
   "name": "python3"
  },
  "language_info": {
   "codemirror_mode": {
    "name": "ipython",
    "version": 3
   },
   "file_extension": ".py",
   "mimetype": "text/x-python",
   "name": "python",
   "nbconvert_exporter": "python",
   "pygments_lexer": "ipython3",
   "version": "3.10.6"
  }
 },
 "nbformat": 4,
 "nbformat_minor": 5
}
